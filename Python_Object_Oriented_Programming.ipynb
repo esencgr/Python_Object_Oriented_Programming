{
 "cells": [
  {
   "cell_type": "markdown",
   "metadata": {},
   "source": [
    "# OBJECT ORIENTED PROGRAMMING"
   ]
  },
  {
   "cell_type": "markdown",
   "metadata": {},
   "source": [
    "## Class - Instance(object)"
   ]
  },
  {
   "cell_type": "markdown",
   "metadata": {},
   "source": [
    "* For ex: Lists defined as a class. \n",
    "* And we can use a list in this class called as an instance or object. \n",
    "* We can use a lot of defined methods in this class .\n",
    "        "
   ]
  },
  {
   "cell_type": "code",
   "execution_count": 23,
   "metadata": {},
   "outputs": [
    {
     "name": "stdout",
     "output_type": "stream",
     "text": [
      "<class 'list'>\n",
      "<class 'list'>\n",
      "append\n",
      "clear\n",
      "copy\n",
      "count\n",
      "extend\n",
      "index\n",
      "insert\n",
      "pop\n",
      "remove\n",
      "reverse\n",
      "sort\n"
     ]
    }
   ],
   "source": [
    "lst1 = [1,2,3,4]\n",
    "lst2 = [1,2,3]\n",
    "\n",
    "#instances - objects \n",
    "print(type(lst1))   \n",
    "print(type(lst2))\n",
    "\n",
    "# methods\n",
    "for m in dir(list):\n",
    "    if \"_\" not in m:\n",
    "        print(m)\n"
   ]
  },
  {
   "cell_type": "markdown",
   "metadata": {},
   "source": [
    "### *Example:*"
   ]
  },
  {
   "cell_type": "code",
   "execution_count": 24,
   "metadata": {},
   "outputs": [
    {
     "name": "stdout",
     "output_type": "stream",
     "text": [
      "bmw\n"
     ]
    }
   ],
   "source": [
    "class Car:\n",
    "    model = \"bmw\"\n",
    "    color = \"blue\"\n",
    "    fuel = 100\n",
    "car1 = Car()\n",
    "print(car1.model)"
   ]
  },
  {
   "cell_type": "markdown",
   "metadata": {},
   "source": [
    "### *Example:*"
   ]
  },
  {
   "cell_type": "code",
   "execution_count": 25,
   "metadata": {},
   "outputs": [
    {
     "name": "stdout",
     "output_type": "stream",
     "text": [
      "bmw\n",
      "pego\n",
      "50\n"
     ]
    }
   ],
   "source": [
    "class Car: \n",
    "    \n",
    "    def __init__(self, model, color, fuel):\n",
    "        self.model = model\n",
    "        self.color = color\n",
    "        self.fuel = fuel\n",
    "        \n",
    "car1 = Car(\"bmw\", \"blue\", 100)\n",
    "car2 = Car(\"pego\", \"white\", 90)\n",
    "\n",
    "print(car1.model)\n",
    "print(car2.model)\n",
    "\n",
    "car2.fuel = 50\n",
    "print(car2.fuel)"
   ]
  },
  {
   "cell_type": "markdown",
   "metadata": {},
   "source": [
    "### *Example:*"
   ]
  },
  {
   "cell_type": "code",
   "execution_count": 26,
   "metadata": {},
   "outputs": [
    {
     "name": "stdout",
     "output_type": "stream",
     "text": [
      "megane\n",
      "blue\n",
      "100\n"
     ]
    }
   ],
   "source": [
    "class Car:\n",
    "    \n",
    "    def __init__(self, model = \"renault\", color = \"red\", fuel = 0):\n",
    "        self.model = model\n",
    "        self.color = color\n",
    "        self.fuel = fuel\n",
    "        \n",
    "car3 = Car(model = \"megane\",color = \"blue\", fuel = 100)\n",
    "print(car3.model)\n",
    "print(car3.color)\n",
    "print(car3.fuel)"
   ]
  },
  {
   "cell_type": "markdown",
   "metadata": {},
   "source": [
    "### *Example:*"
   ]
  },
  {
   "cell_type": "code",
   "execution_count": 27,
   "metadata": {},
   "outputs": [
    {
     "name": "stdout",
     "output_type": "stream",
     "text": [
      "['defense', 'ofense']\n",
      "[]\n",
      "['scoped']\n",
      "['machine gun']\n"
     ]
    }
   ],
   "source": [
    "class Army:\n",
    "    capabilities = [\"defense\",\"ofense\"]          ## this attribute is defined by all class \n",
    "    \n",
    "    def __init__(self, capabilities = list()):   ## and this one is defined by only own objects \n",
    "        self.capabilities = capabilities\n",
    "        \n",
    "print(Army.capabilities)\n",
    "\n",
    "soldier_1 = Army()\n",
    "print(soldier_1.capabilities)\n",
    "\n",
    "soldier_2 = Army(capabilities = [\"scoped\"])\n",
    "print(soldier_2.capabilities)\n",
    "\n",
    "soldier_1.capabilities.append(\"machine gun\")\n",
    "print(soldier_1.capabilities)"
   ]
  },
  {
   "cell_type": "markdown",
   "metadata": {},
   "source": [
    "## Methods:\n"
   ]
  },
  {
   "cell_type": "markdown",
   "metadata": {},
   "source": [
    "### *Example:*"
   ]
  },
  {
   "cell_type": "markdown",
   "metadata": {},
   "source": [
    "* class --> person (name, bithday) method (age())\n",
    "* instance --> let p1 (sena, 1999)\n",
    "* instance --> let p2 (mert, 1990)"
   ]
  },
  {
   "cell_type": "code",
   "execution_count": 28,
   "metadata": {},
   "outputs": [
    {
     "name": "stdout",
     "output_type": "stream",
     "text": [
      "hello there. I am ahmet\n",
      "hello there. I am veli\n",
      "first person name : ahmet and age : 30\n",
      "second person name : veli and age: 22\n"
     ]
    }
   ],
   "source": [
    "# class \n",
    "class Person:\n",
    "    \n",
    "    # class attributes\n",
    "    adress = \"no information\"\n",
    "    \n",
    "    # constructor (yapıcı metodlar)\n",
    "    def __init__(self, name, year):  # self -> p1 or self -> p2 \n",
    "        # object attributes\n",
    "        self.name = name \n",
    "        self.year = year\n",
    "        \n",
    "    # instance methods\n",
    "    def intro(self):\n",
    "        print(\"hello there. I am \" + self.name )\n",
    "    \n",
    "    def age(self):\n",
    "        return 2020 - self.year\n",
    "    \n",
    "# object definition\n",
    "p1 = Person(name = 'ali', year = 1990)\n",
    "p2 = Person(name = 'veli', year = 1998)\n",
    "\n",
    "# updating \n",
    "p1.name = \"ahmet\"\n",
    "# p1.adress = \"\"\n",
    "\n",
    "p1.intro()\n",
    "p2.intro()\n",
    "\n",
    "# accesing object atttibutes\n",
    "print(f'first person name : {p1.name} and age : {p1.age()}')\n",
    "print(f'second person name : {p2.name} and age: {p2.age()}')\n",
    "\n",
    "\n",
    "# p1 and p2 are in different adress\n",
    "# print(p1)      \n",
    "# print(p2)\n",
    "\n",
    "# print(type(p1))\n",
    "# print(p1 == p2)  # different obj"
   ]
  },
  {
   "cell_type": "markdown",
   "metadata": {},
   "source": [
    "### *Example:*"
   ]
  },
  {
   "cell_type": "markdown",
   "metadata": {},
   "source": [
    "* class --> circle(radius) - method(calculate_env(), calculate_area())\n",
    "* instance --> let circle1(r)\n",
    "* instance --> let circle2(r)"
   ]
  },
  {
   "cell_type": "code",
   "execution_count": 29,
   "metadata": {},
   "outputs": [
    {
     "name": "stdout",
     "output_type": "stream",
     "text": [
      "env of circle one : 6.28\n",
      "area of circle one : 3.14\n",
      "\n",
      "\n",
      "env of circle two : 25.12\n",
      "area of circle two : 50.24\n"
     ]
    }
   ],
   "source": [
    "class Circle:\n",
    "    \n",
    "    # class attributes\n",
    "    pi = 3.14\n",
    "\n",
    "    # constructor (yapıcı metodlar)\n",
    "    def __init__(self, r = 1):\n",
    "        self.r = r\n",
    "    \n",
    "    # instance methods\n",
    "    def env(self):\n",
    "        return 2 * self.pi * self.r\n",
    "    \n",
    "    def area(self):\n",
    "        return self.pi * (self.r ** 2)  \n",
    "    \n",
    "# object definition\n",
    "# rad = float(input(\"enter radius : \")) \n",
    "# c1 = circle(rad)\n",
    "c1 = Circle()\n",
    "c2 = Circle(4)\n",
    "\n",
    "# accesing object atttibutes\n",
    "print(f\"env of circle one : {c1.env()}\")\n",
    "print(f\"area of circle one : {c1.area()}\")\n",
    "\n",
    "print(\"\\n\")\n",
    "\n",
    "print(f\"env of circle two : {c2.env()}\")\n",
    "print(f\"area of circle two : {c2.area()}\")"
   ]
  },
  {
   "cell_type": "markdown",
   "metadata": {},
   "source": [
    "### *Example:*"
   ]
  },
  {
   "cell_type": "markdown",
   "metadata": {},
   "source": [
    "* class --> workers(name, surname, salary, languages) methods(add_salary(), add_langage()) \n",
    "* instance --> let staff1()\n"
   ]
  },
  {
   "cell_type": "code",
   "execution_count": 30,
   "metadata": {},
   "outputs": [
    {
     "name": "stdout",
     "output_type": "stream",
     "text": [
      "\n",
      "              STAFF INFORMATION \n",
      "              \n",
      "              name = cgr\n",
      "              salary = 1000\n",
      "              languages = ['C', 'PYTHON', 'C++']\n",
      "              \n",
      "              \n",
      "\n",
      "              STAFF INFORMATION \n",
      "              \n",
      "              name = cgr\n",
      "              salary = 1010\n",
      "              languages = ['C', 'PYTHON', 'C++', 'R']\n",
      "              \n",
      "              \n",
      "perform of staff = 15\n"
     ]
    }
   ],
   "source": [
    "class Workers:\n",
    "    \n",
    "    # constructors\n",
    "    def __init__(self, name, salary, languages):\n",
    "        self.name = name\n",
    "        self.salary = salary\n",
    "        self.languages = languages\n",
    "    \n",
    "    # instance methods \n",
    "    def show_info(self):\n",
    "        print(f\"\"\"\n",
    "              STAFF INFORMATION \n",
    "              \n",
    "              name = {self.name}\n",
    "              salary = {self.salary}\n",
    "              languages = {self.languages}\n",
    "              \n",
    "              \"\"\")\n",
    "    \n",
    "    def add_salary(self, val):\n",
    "        self.salary += val\n",
    "    \n",
    "    def add_language(self, lan):\n",
    "        self.languages.append(lan)\n",
    "        \n",
    "staff = Workers(\"cgr\", 1000, [\"C\", \"PYTHON\", \"C++\"])\n",
    "staff.show_info()\n",
    "\n",
    "staff.add_salary(10)\n",
    "staff.add_language(\"R\")\n",
    "staff.show_info()\n",
    "\n",
    "# Create new atrributes \n",
    "staff.perform = 15\n",
    "print(\"perform of staff =\", staff.perform)"
   ]
  },
  {
   "cell_type": "markdown",
   "metadata": {},
   "source": [
    "## Inheritance"
   ]
  },
  {
   "cell_type": "markdown",
   "metadata": {},
   "source": [
    "- Inheritance : miras alma \n",
    "- Person -> name, lastname, age , eat() run()\n",
    "- Student(Person), Teacher(Person)\n",
    "- All attributes of Person class allows the Student class.\n",
    "- Main class - Sub class "
   ]
  },
  {
   "cell_type": "code",
   "execution_count": 2,
   "metadata": {},
   "outputs": [
    {
     "name": "stdout",
     "output_type": "stream",
     "text": [
      "person created\n",
      "person created\n",
      "student created\n"
     ]
    }
   ],
   "source": [
    "class Person:\n",
    "    def __init__(self):\n",
    "        print(\"person created\")\n",
    "        \n",
    "class Student(Person):\n",
    "    def __init__(self):\n",
    "        Person.__init__(self)\n",
    "        print(\"student created\")\n",
    "    \n",
    "p = Person()\n",
    "s = Student()"
   ]
  },
  {
   "cell_type": "markdown",
   "metadata": {},
   "source": [
    "### *Example:*"
   ]
  },
  {
   "cell_type": "markdown",
   "metadata": {},
   "source": [
    "- class workers --> name salary department\n",
    "- class workers(class manager, class engineer, class intern)"
   ]
  },
  {
   "cell_type": "code",
   "execution_count": 32,
   "metadata": {},
   "outputs": [
    {
     "name": "stdout",
     "output_type": "stream",
     "text": [
      "workers init function\n",
      "name : CAGRI\n",
      "salary : 1000\n",
      "department : management\n",
      "\n",
      "name : CAGRI\n",
      "salary : 1000\n",
      "department : human resorces\n",
      "\n",
      "name : CAGRI\n",
      "salary : 1100\n",
      "department : human resorces\n"
     ]
    }
   ],
   "source": [
    "class Workers:\n",
    "    def __init__(self, name, salary, department):\n",
    "        print(\"workers init function\")\n",
    "        self.name = name \n",
    "        self.salary = salary\n",
    "        self.department = department\n",
    "    \n",
    "    def show(self):\n",
    "        print(f\"name : {self.name}\\nsalary : {self.salary}\\ndepartment : {self.department}\")\n",
    "        \n",
    "    def change_department(self, new_department):\n",
    "        self.department = new_department\n",
    "\n",
    "        \n",
    "class Manager(Workers):\n",
    "    def add_salary(self, value):\n",
    "        self.salary += value \n",
    "\n",
    "    \n",
    "m = Manager(\"CAGRI\", 1000, \"management\")\n",
    "m.show()\n",
    "print()\n",
    "\n",
    "m.change_department(\"human resorces\")\n",
    "m.show()\n",
    "print()\n",
    "\n",
    "m.add_salary(100)\n",
    "m.show()"
   ]
  },
  {
   "cell_type": "markdown",
   "metadata": {},
   "source": [
    "## Overriding\n"
   ]
  },
  {
   "cell_type": "code",
   "execution_count": 33,
   "metadata": {},
   "outputs": [
    {
     "name": "stdout",
     "output_type": "stream",
     "text": [
      "workers class init function\n",
      "name : ESEN\n",
      "salary : 200\n",
      "department : workers\n",
      "\n",
      "workers class init function\n",
      "manager class init function\n",
      "name : CAGRI\n",
      "salary : 1000\n",
      "department : management\n",
      "total person : 1000\n"
     ]
    }
   ],
   "source": [
    "class Workers:\n",
    "    def __init__(self, name, salary, department):\n",
    "        self.name = name \n",
    "        self.salary = salary\n",
    "        self.department = department\n",
    "        print(\"workers class init function\")\n",
    "\n",
    "    def show(self):\n",
    "        print(f\"name : {self.name}\\nsalary : {self.salary}\\ndepartment : {self.department}\")\n",
    "        \n",
    "    def change_department(self, new_department):\n",
    "        self.department = new_department\n",
    "\n",
    "        \n",
    "class Manager(Workers):\n",
    "    # override init function - super\n",
    "    def __init__(self, name, salary, department, total_person):\n",
    "        #self.name = name \n",
    "        #self.salary = salary\n",
    "        #self.department = department\n",
    "        super().__init__(name, salary, department)\n",
    "        self.total_person = total_person\n",
    "        print(\"manager class init function\")\n",
    "\n",
    "        \n",
    "    # override show function\n",
    "    def show(self):\n",
    "        print(f\"name : {self.name}\\nsalary : {self.salary}\\ndepartment : {self.department}\\ntotal person : {self.total_person}\")\n",
    "        \n",
    "    def add_salary(self, value):\n",
    "        self.salary += value \n",
    "\n",
    "w = Workers(\"ESEN\", 200, \"workers\")\n",
    "w.show()\n",
    "print()\n",
    "\n",
    "m = Manager(\"CAGRI\", 1000, \"management\", 1000) # if we add this value parameter : total person override init\n",
    "m.show()                                       # we use overriding show function \n"
   ]
  },
  {
   "cell_type": "code",
   "execution_count": 3,
   "metadata": {},
   "outputs": [
    {
     "name": "stdout",
     "output_type": "stream",
     "text": [
      "Person created\n",
      "Person created\n",
      "Student created\n",
      "Person created\n",
      "Teacher created\n",
      "\n",
      "I am a PERSON\n",
      "cgr  26\n",
      "I am a STUDENT\n",
      "My number is 1111\n",
      "I am a TEACHER\n",
      "I am a math teacher\n",
      "\n",
      "I am eating\n",
      "I am eating\n"
     ]
    }
   ],
   "source": [
    "class Person:\n",
    "    def __init__(self, name, age):\n",
    "        self.name = name \n",
    "        self.age = age\n",
    "        print(\"Person created\")\n",
    "    \n",
    "    def who_am_i(self):\n",
    "        print(\"I am a PERSON\")\n",
    "        print(f\"{self.name}  {self.age}\")\n",
    "    \n",
    "    def eat(self):\n",
    "        print(\"I am eating\")\n",
    "        \n",
    "        \n",
    "        \n",
    "class Student(Person):\n",
    "    # override init function\n",
    "    def __init__(self, name, age, number):\n",
    "        Person.__init__(self, name, age)\n",
    "        self.number = number \n",
    "        print(\"Student created\")\n",
    "    \n",
    "    # override who_am_i func. \n",
    "    def who_am_i(self):                  # This function override the other who_am_i function \n",
    "        print(\"I am a STUDENT\")\n",
    "        print(f\"My number is {self.number}\")\n",
    "\n",
    "        \n",
    "    \n",
    "class Teacher(Person):    \n",
    "    # override init function - super\n",
    "    def __init__(self, name, age, branch):\n",
    "        super().__init__(name, age)           # if you define super function you dont use self parameter \n",
    "        self.branch = branch\n",
    "        print(\"Teacher created\")\n",
    "        \n",
    "    # overiide who_am_i func.\n",
    "    def who_am_i(self):\n",
    "        print(\"I am a TEACHER\")\n",
    "        print(f\"I am a {self.branch} teacher\")\n",
    "    \n",
    "    \n",
    "p = Person(name = \"cgr\", age = 26)\n",
    "s = Student(name = \"esen\", age = 20, number = 1111)\n",
    "t = Teacher(name = \"erkan\", age = 35, branch = \"math\")\n",
    "print()\n",
    "\n",
    "p.who_am_i()\n",
    "s.who_am_i()\n",
    "t.who_am_i()\n",
    "print()\n",
    "\n",
    "p.eat()\n",
    "s.eat()"
   ]
  },
  {
   "cell_type": "markdown",
   "metadata": {},
   "source": [
    "## Polymorphism "
   ]
  },
  {
   "cell_type": "code",
   "execution_count": 35,
   "metadata": {},
   "outputs": [],
   "source": [
    "class Person:\n",
    "    def __init__(self, name, age, salary):\n",
    "        self.name = name \n",
    "        self.age = age\n",
    "        self.salary = salary\n",
    "        print(\"Person created\")\n",
    "\n",
    "    # override who function\n",
    "    def who_am_i(self):\n",
    "        print(\"I am a person\")\n",
    "        print(f\"name : {self.name}  age : {self.age}\")\n",
    "    \n",
    "    # override who function    \n",
    "    def do_raise(self):\n",
    "        return self.salary\n",
    "        \n",
    "class Manager(Person):    \n",
    "    # override init function - super\n",
    "    def __init__(self, name, age, salary):\n",
    "        super().__init__(name, age, salary)           # if you define super function you dont use self parameter \n",
    "        print(\"Manager created\")\n",
    "        \n",
    "    # override who function\n",
    "    def who_am_i(self):\n",
    "        print(\"I am a manager\")\n",
    "        print(f\"name : {self.name}  age : {self.age}\")\n",
    "        \n",
    "    # override who function\n",
    "    def do_raise(self):\n",
    "        return self.salary * 2\n",
    "    \n",
    "class Teacher(Person):    \n",
    "    # override init function - super\n",
    "    def __init__(self, name, age, salary, branch):\n",
    "        super().__init__(name, age, salary)           # if you define super function you dont use self parameter \n",
    "        self.branch = branch\n",
    "        print(\"Teacher created\")\n",
    "        \n",
    "    # override who function\n",
    "    def who_am_i(self):\n",
    "        print(\"I am a teacher\")\n",
    "        print(f\"name : {self.name}  age : {self.age} branch : {self.branch}\")\n",
    "        \n",
    "    def do_raise(self):\n",
    "        return self.salary * 1.3\n",
    "    "
   ]
  },
  {
   "cell_type": "code",
   "execution_count": 36,
   "metadata": {},
   "outputs": [
    {
     "name": "stdout",
     "output_type": "stream",
     "text": [
      "Person created\n",
      "I am a person\n",
      "name : straight person  age : 26\n",
      "salary : 1000\n"
     ]
    }
   ],
   "source": [
    "person = Person(\"straight person\", 26, 1000)\n",
    "person.who_am_i()\n",
    "print(\"salary :\", person.do_raise())"
   ]
  },
  {
   "cell_type": "code",
   "execution_count": 37,
   "metadata": {},
   "outputs": [
    {
     "name": "stdout",
     "output_type": "stream",
     "text": [
      "Person created\n",
      "Manager created\n",
      "I am a manager\n",
      "name : Elton  age : 50\n",
      "salary : 4000\n"
     ]
    }
   ],
   "source": [
    "manager = Manager(\"Elton\", 50, 2000)\n",
    "manager.who_am_i()\n",
    "print(\"salary :\", manager.do_raise())"
   ]
  },
  {
   "cell_type": "code",
   "execution_count": 38,
   "metadata": {},
   "outputs": [
    {
     "name": "stdout",
     "output_type": "stream",
     "text": [
      "Person created\n",
      "Teacher created\n",
      "I am a teacher\n",
      "name : John  age : 30 branch : mathematic\n",
      "salary : 2600.0\n"
     ]
    }
   ],
   "source": [
    "teacher = Teacher(\"John\", 30, 2000, \"mathematic\")\n",
    "teacher.who_am_i()\n",
    "print(\"salary :\", teacher.do_raise())"
   ]
  },
  {
   "cell_type": "markdown",
   "metadata": {},
   "source": [
    "## Special Methods"
   ]
  },
  {
   "cell_type": "code",
   "execution_count": 39,
   "metadata": {},
   "outputs": [
    {
     "name": "stdout",
     "output_type": "stream",
     "text": [
      "3\n",
      "<class 'list'>\n"
     ]
    }
   ],
   "source": [
    "# len\n",
    "l = [1,2,3]\n",
    "print(len(l))\n",
    "\n",
    "# type \n",
    "print(type(l))"
   ]
  },
  {
   "cell_type": "code",
   "execution_count": 40,
   "metadata": {},
   "outputs": [
    {
     "name": "stdout",
     "output_type": "stream",
     "text": [
      "<class '__main__.Manager'>\n"
     ]
    }
   ],
   "source": [
    "class Movie:\n",
    "    pass \n",
    "\n",
    "# type \n",
    "print(type(m))        #type method defines for class\n",
    "\n",
    "#len                  #len method dont defines for class\n",
    "m = Movie()\n",
    "# print(len(m))"
   ]
  },
  {
   "cell_type": "code",
   "execution_count": 41,
   "metadata": {},
   "outputs": [
    {
     "name": "stdout",
     "output_type": "stream",
     "text": [
      "<__main__.Movie object at 0x7fb498969c70>\n"
     ]
    }
   ],
   "source": [
    "class Movie:\n",
    "    def __init__(self, title, director, duration):\n",
    "        self.title = title\n",
    "        self.director = director\n",
    "        self.duration = duration\n",
    "        \n",
    "m = Movie(\"x\", \"y\", \"120dk\")\n",
    "print(m)                      "
   ]
  },
  {
   "cell_type": "code",
   "execution_count": 42,
   "metadata": {},
   "outputs": [
    {
     "name": "stdout",
     "output_type": "stream",
     "text": [
      "movie object created.\n",
      "movie name : x  --  director : y\n",
      "120\n"
     ]
    }
   ],
   "source": [
    "class Movie:\n",
    "    def __init__(self, title, director, duration):\n",
    "        print(\"movie object created.\")\n",
    "        self.title = title\n",
    "        self.director = director\n",
    "        self.duration = duration\n",
    "    \n",
    "    def __str__(self):\n",
    "        return (f\"movie name : {self.title}  --  director : {self.director}\")\n",
    "\n",
    "    def __len__(self):\n",
    "        return (self.duration)\n",
    "    \n",
    "    def __del__(self):\n",
    "        print(\"movie object deleted\")\n",
    "    \n",
    "mov = Movie(\"x\", \"y\", 120)\n",
    "print(mov)\n",
    "print(len(mov))"
   ]
  },
  {
   "cell_type": "code",
   "execution_count": 43,
   "metadata": {},
   "outputs": [
    {
     "name": "stdout",
     "output_type": "stream",
     "text": [
      "movie object deleted\n"
     ]
    }
   ],
   "source": [
    "del mov"
   ]
  },
  {
   "cell_type": "code",
   "execution_count": 44,
   "metadata": {},
   "outputs": [
    {
     "ename": "NameError",
     "evalue": "name 'mov' is not defined",
     "output_type": "error",
     "traceback": [
      "\u001b[0;31m---------------------------------------------------------------------------\u001b[0m",
      "\u001b[0;31mNameError\u001b[0m                                 Traceback (most recent call last)",
      "\u001b[0;32m<ipython-input-44-ddaefb63ef90>\u001b[0m in \u001b[0;36m<module>\u001b[0;34m\u001b[0m\n\u001b[0;32m----> 1\u001b[0;31m \u001b[0mmov\u001b[0m\u001b[0;34m\u001b[0m\u001b[0;34m\u001b[0m\u001b[0m\n\u001b[0m",
      "\u001b[0;31mNameError\u001b[0m: name 'mov' is not defined"
     ]
    }
   ],
   "source": [
    "mov"
   ]
  },
  {
   "cell_type": "markdown",
   "metadata": {},
   "source": [
    "## Encapsulation"
   ]
  },
  {
   "cell_type": "markdown",
   "metadata": {},
   "source": [
    "- Encapsulation : erişimi engelleme \n",
    "- For example : in a company only management personel can access workers salary and changed it.\n",
    "- For this reason some methods and attributes is acceseble by spesific class "
   ]
  },
  {
   "cell_type": "markdown",
   "metadata": {},
   "source": [
    "- ***Avoiding Access Attributes***"
   ]
  },
  {
   "cell_type": "code",
   "execution_count": 14,
   "metadata": {},
   "outputs": [],
   "source": [
    "class Teacher():    \n",
    "    def __init__(self, name, salary, branch):\n",
    "        self.name = name             # general variables \n",
    "        self.__salary= salary       # special variable        \n",
    "        self.branch = branch         # general variables \n",
    "        print(\"Teacher created\")"
   ]
  },
  {
   "cell_type": "code",
   "execution_count": 15,
   "metadata": {
    "scrolled": true
   },
   "outputs": [
    {
     "name": "stdout",
     "output_type": "stream",
     "text": [
      "Teacher created\n",
      "Cgr\n"
     ]
    },
    {
     "ename": "AttributeError",
     "evalue": "'Teacher' object has no attribute '__salary'",
     "output_type": "error",
     "traceback": [
      "\u001b[0;31m---------------------------------------------------------------------------\u001b[0m",
      "\u001b[0;31mAttributeError\u001b[0m                            Traceback (most recent call last)",
      "\u001b[0;32m<ipython-input-15-7c5d56729a3b>\u001b[0m in \u001b[0;36m<module>\u001b[0;34m\u001b[0m\n\u001b[1;32m      1\u001b[0m \u001b[0mcgr\u001b[0m \u001b[0;34m=\u001b[0m \u001b[0mTeacher\u001b[0m\u001b[0;34m(\u001b[0m\u001b[0;34m\"Cgr\"\u001b[0m\u001b[0;34m,\u001b[0m \u001b[0;36m1000\u001b[0m\u001b[0;34m,\u001b[0m \u001b[0;34m\"math\"\u001b[0m\u001b[0;34m)\u001b[0m\u001b[0;34m\u001b[0m\u001b[0;34m\u001b[0m\u001b[0m\n\u001b[1;32m      2\u001b[0m \u001b[0mprint\u001b[0m\u001b[0;34m(\u001b[0m\u001b[0mcgr\u001b[0m\u001b[0;34m.\u001b[0m\u001b[0mname\u001b[0m\u001b[0;34m)\u001b[0m\u001b[0;34m\u001b[0m\u001b[0;34m\u001b[0m\u001b[0m\n\u001b[0;32m----> 3\u001b[0;31m \u001b[0mprint\u001b[0m\u001b[0;34m(\u001b[0m\u001b[0mcgr\u001b[0m\u001b[0;34m.\u001b[0m\u001b[0m__salary\u001b[0m\u001b[0;34m)\u001b[0m\u001b[0;34m\u001b[0m\u001b[0;34m\u001b[0m\u001b[0m\n\u001b[0m",
      "\u001b[0;31mAttributeError\u001b[0m: 'Teacher' object has no attribute '__salary'"
     ]
    }
   ],
   "source": [
    "cgr = Teacher(\"Cgr\", 1000, \"math\")\n",
    "print(cgr.name)\n",
    "print(cgr.__salary)"
   ]
  },
  {
   "cell_type": "code",
   "execution_count": 17,
   "metadata": {},
   "outputs": [],
   "source": [
    "class Car():\n",
    "    def __init__(self):\n",
    "        self.__vel = 0\n",
    "        \n",
    "    def high_vel(self):\n",
    "        self.high_vel += 100\n"
   ]
  },
  {
   "cell_type": "code",
   "execution_count": 19,
   "metadata": {},
   "outputs": [
    {
     "ename": "AttributeError",
     "evalue": "'Car' object has no attribute '_vel'",
     "output_type": "error",
     "traceback": [
      "\u001b[0;31m---------------------------------------------------------------------------\u001b[0m",
      "\u001b[0;31mAttributeError\u001b[0m                            Traceback (most recent call last)",
      "\u001b[0;32m<ipython-input-19-5513cedbdac4>\u001b[0m in \u001b[0;36m<module>\u001b[0;34m\u001b[0m\n\u001b[1;32m      1\u001b[0m \u001b[0mx\u001b[0m \u001b[0;34m=\u001b[0m \u001b[0mCar\u001b[0m\u001b[0;34m(\u001b[0m\u001b[0;34m)\u001b[0m\u001b[0;34m\u001b[0m\u001b[0;34m\u001b[0m\u001b[0m\n\u001b[0;32m----> 2\u001b[0;31m \u001b[0mprint\u001b[0m\u001b[0;34m(\u001b[0m\u001b[0mx\u001b[0m\u001b[0;34m.\u001b[0m\u001b[0m_vel\u001b[0m\u001b[0;34m)\u001b[0m\u001b[0;34m\u001b[0m\u001b[0;34m\u001b[0m\u001b[0m\n\u001b[0m",
      "\u001b[0;31mAttributeError\u001b[0m: 'Car' object has no attribute '_vel'"
     ]
    }
   ],
   "source": [
    "x = Car()\n",
    "print(x._vel)"
   ]
  },
  {
   "cell_type": "markdown",
   "metadata": {},
   "source": [
    "* But we can access this special variable by a new method that defined in the class."
   ]
  },
  {
   "cell_type": "code",
   "execution_count": 38,
   "metadata": {},
   "outputs": [],
   "source": [
    "class Teacher():    \n",
    "    def __init__(self, name, salary, branch):\n",
    "        self.name = name             # general variables \n",
    "        self.__salary= salary       # special variable        \n",
    "        self.branch = branch         # general variables \n",
    "        print(\"Teacher created\")\n",
    "        \n",
    "    def get_salary(self):\n",
    "        return self.__salary"
   ]
  },
  {
   "cell_type": "code",
   "execution_count": 41,
   "metadata": {},
   "outputs": [
    {
     "name": "stdout",
     "output_type": "stream",
     "text": [
      "Teacher created\n",
      "Cgr\n",
      "1000\n"
     ]
    }
   ],
   "source": [
    "cgr = Teacher(\"Cgr\", 1000, \"math\")\n",
    "print(cgr.name)\n",
    "print(cgr.get_salary())"
   ]
  },
  {
   "cell_type": "code",
   "execution_count": 24,
   "metadata": {},
   "outputs": [],
   "source": [
    "class Car():\n",
    "    def __init__(self):\n",
    "        self.__vel = 0\n",
    "        \n",
    "    def high_vel(self):\n",
    "        self.__vel += 100\n",
    "    \n",
    "    def get_vel(self):\n",
    "        print(self.__vel)"
   ]
  },
  {
   "cell_type": "code",
   "execution_count": 26,
   "metadata": {},
   "outputs": [
    {
     "name": "stdout",
     "output_type": "stream",
     "text": [
      "0\n",
      "100\n"
     ]
    }
   ],
   "source": [
    "x = Car()\n",
    "x.get_vel()\n",
    "\n",
    "x.high_vel()\n",
    "x.get_vel()"
   ]
  },
  {
   "cell_type": "code",
   "execution_count": 33,
   "metadata": {},
   "outputs": [],
   "source": [
    "class Car():\n",
    "    def __init__(self):\n",
    "        self.__vel = 0\n",
    "        \n",
    "    def set_vel(self, value):\n",
    "        self.__vel = value\n",
    "\n",
    "    def get_vel(self):\n",
    "        return self.__vel"
   ]
  },
  {
   "cell_type": "code",
   "execution_count": 37,
   "metadata": {},
   "outputs": [
    {
     "name": "stdout",
     "output_type": "stream",
     "text": [
      "0\n",
      "100\n"
     ]
    }
   ],
   "source": [
    "x = Car()\n",
    "print(x.get_vel())\n",
    "\n",
    "x.set_vel(100)\n",
    "print(x.get_vel())"
   ]
  },
  {
   "cell_type": "markdown",
   "metadata": {},
   "source": [
    "- ***Avoiding Access Methods***"
   ]
  },
  {
   "cell_type": "code",
   "execution_count": 50,
   "metadata": {},
   "outputs": [],
   "source": [
    "class Car():\n",
    "    def __init__(self):\n",
    "        self.__vel = 0\n",
    "        \n",
    "    def high_vel(self):\n",
    "        self.__vel += 100\n",
    "    \n",
    "    def get_vel(self):\n",
    "        print(self.__vel)"
   ]
  },
  {
   "cell_type": "code",
   "execution_count": 51,
   "metadata": {},
   "outputs": [
    {
     "name": "stdout",
     "output_type": "stream",
     "text": [
      "0\n",
      "100\n"
     ]
    }
   ],
   "source": [
    "x = Car()\n",
    "x.get_vel()\n",
    "\n",
    "x.high_vel()\n",
    "x.get_vel()"
   ]
  },
  {
   "cell_type": "code",
   "execution_count": 52,
   "metadata": {},
   "outputs": [],
   "source": [
    "class Car():\n",
    "    def __init__(self):\n",
    "        self.vel = 0\n",
    "        \n",
    "    def __high_vel(self):\n",
    "        self.vel += 100\n",
    "    \n",
    "    def get_vel(self):\n",
    "        print(self.vel)\n",
    "        "
   ]
  },
  {
   "cell_type": "code",
   "execution_count": 53,
   "metadata": {},
   "outputs": [
    {
     "name": "stdout",
     "output_type": "stream",
     "text": [
      "0\n"
     ]
    },
    {
     "ename": "AttributeError",
     "evalue": "'Car' object has no attribute '__high_vel'",
     "output_type": "error",
     "traceback": [
      "\u001b[0;31m---------------------------------------------------------------------------\u001b[0m",
      "\u001b[0;31mAttributeError\u001b[0m                            Traceback (most recent call last)",
      "\u001b[0;32m<ipython-input-53-da98074e0059>\u001b[0m in \u001b[0;36m<module>\u001b[0;34m\u001b[0m\n\u001b[1;32m      2\u001b[0m \u001b[0mx\u001b[0m\u001b[0;34m.\u001b[0m\u001b[0mget_vel\u001b[0m\u001b[0;34m(\u001b[0m\u001b[0;34m)\u001b[0m\u001b[0;34m\u001b[0m\u001b[0;34m\u001b[0m\u001b[0m\n\u001b[1;32m      3\u001b[0m \u001b[0;34m\u001b[0m\u001b[0m\n\u001b[0;32m----> 4\u001b[0;31m \u001b[0mx\u001b[0m\u001b[0;34m.\u001b[0m\u001b[0m__high_vel\u001b[0m\u001b[0;34m(\u001b[0m\u001b[0;34m)\u001b[0m\u001b[0;34m\u001b[0m\u001b[0;34m\u001b[0m\u001b[0m\n\u001b[0m\u001b[1;32m      5\u001b[0m \u001b[0mx\u001b[0m\u001b[0;34m.\u001b[0m\u001b[0mget_vel\u001b[0m\u001b[0;34m(\u001b[0m\u001b[0;34m)\u001b[0m\u001b[0;34m\u001b[0m\u001b[0;34m\u001b[0m\u001b[0m\n",
      "\u001b[0;31mAttributeError\u001b[0m: 'Car' object has no attribute '__high_vel'"
     ]
    }
   ],
   "source": [
    "x = Car()\n",
    "x.get_vel()\n",
    "\n",
    "x.__high_vel()\n",
    "x.get_vel()"
   ]
  },
  {
   "cell_type": "code",
   "execution_count": 9,
   "metadata": {},
   "outputs": [],
   "source": [
    "class Teacher():    \n",
    "    def __init__(self, name, salary, branch):\n",
    "        self.name = name             # general variables \n",
    "        self.__salary = salary       # special variable        \n",
    "        self.branch = branch         # general variables \n",
    "        print(\"Teacher created\")\n",
    "        \n",
    "    def who_am_i(self):\n",
    "        print(f\"{self.name} is a teacher that have {self.age} salary and his branch is {self.branch}\")\n",
    "\n",
    "    def raise_salary(self, percent):\n",
    "        return self.__salary * percent \n",
    "    \n",
    "    def get_salary(self):\n",
    "        return self.__salary\n",
    "    \n",
    "    def set_salary(self, new_salary):\n",
    "        self.__salary = new_salary"
   ]
  },
  {
   "cell_type": "code",
   "execution_count": 10,
   "metadata": {},
   "outputs": [
    {
     "name": "stdout",
     "output_type": "stream",
     "text": [
      "Teacher created\n",
      "1000\n",
      "1500.0\n"
     ]
    }
   ],
   "source": [
    "cgr = Teacher(\"Cgr\", 1000, \"math\")\n",
    "print(cgr.get_salary())\n",
    "\n",
    "cgr.set_salary(cgr.raise_salary(1.5))\n",
    "print(cgr.get_salary())"
   ]
  },
  {
   "cell_type": "code",
   "execution_count": 49,
   "metadata": {},
   "outputs": [],
   "source": [
    "class Teacher():    \n",
    "    def __init__(self, name, salary, branch):\n",
    "        self.name = name             # general variables \n",
    "        self.__salary = salary       # special variable        \n",
    "        self.branch = branch         # general variables \n",
    "        print(\"Teacher created\")\n",
    "        \n",
    "    def who_am_i(self):\n",
    "        print(f\"{self.name} is a teacher that have {self.age} salary and his branch is {self.branch}\")\n",
    "\n",
    "    def __raise_salary(self, percent):   # special method\n",
    "        return self.__salary * percent \n",
    "    \n",
    "    def get_salary(self):\n",
    "        return self.__salary\n",
    "    \n",
    "    def set_salary(self, new_salary):\n",
    "        self.__salary = new_salary"
   ]
  },
  {
   "cell_type": "code",
   "execution_count": 50,
   "metadata": {
    "scrolled": true
   },
   "outputs": [
    {
     "name": "stdout",
     "output_type": "stream",
     "text": [
      "Teacher created\n",
      "1000\n"
     ]
    },
    {
     "ename": "AttributeError",
     "evalue": "'Teacher' object has no attribute '__raise_salary'",
     "output_type": "error",
     "traceback": [
      "\u001b[0;31m---------------------------------------------------------------------------\u001b[0m",
      "\u001b[0;31mAttributeError\u001b[0m                            Traceback (most recent call last)",
      "\u001b[0;32m<ipython-input-50-ef7372633909>\u001b[0m in \u001b[0;36m<module>\u001b[0;34m\u001b[0m\n\u001b[1;32m      2\u001b[0m \u001b[0mprint\u001b[0m\u001b[0;34m(\u001b[0m\u001b[0mcgr\u001b[0m\u001b[0;34m.\u001b[0m\u001b[0mget_salary\u001b[0m\u001b[0;34m(\u001b[0m\u001b[0;34m)\u001b[0m\u001b[0;34m)\u001b[0m\u001b[0;34m\u001b[0m\u001b[0;34m\u001b[0m\u001b[0m\n\u001b[1;32m      3\u001b[0m \u001b[0;34m\u001b[0m\u001b[0m\n\u001b[0;32m----> 4\u001b[0;31m \u001b[0mprint\u001b[0m\u001b[0;34m(\u001b[0m\u001b[0mcgr\u001b[0m\u001b[0;34m.\u001b[0m\u001b[0m__raise_salary\u001b[0m\u001b[0;34m(\u001b[0m\u001b[0;36m1.5\u001b[0m\u001b[0;34m)\u001b[0m\u001b[0;34m)\u001b[0m  \u001b[0;31m# avoiding the raise method\u001b[0m\u001b[0;34m\u001b[0m\u001b[0;34m\u001b[0m\u001b[0m\n\u001b[0m",
      "\u001b[0;31mAttributeError\u001b[0m: 'Teacher' object has no attribute '__raise_salary'"
     ]
    }
   ],
   "source": [
    "cgr = Teacher(\"Cgr\", 1000, \"math\")\n",
    "print(cgr.get_salary())\n",
    "\n",
    "print(cgr.__raise_salary(1.5))  # avoiding the raise method"
   ]
  },
  {
   "cell_type": "markdown",
   "metadata": {},
   "source": [
    "## Abstract Class"
   ]
  },
  {
   "cell_type": "markdown",
   "metadata": {},
   "source": [
    "- Abstract Class : Soyut sınıf \n",
    "- They act as templates for subclasses.\n",
    "- There are two important point:"
   ]
  },
  {
   "cell_type": "markdown",
   "metadata": {},
   "source": [
    "- ***We can not create an object from abstract class***"
   ]
  },
  {
   "cell_type": "code",
   "execution_count": 54,
   "metadata": {},
   "outputs": [],
   "source": [
    "from abc import ABC,abstractmethod\n",
    "\n",
    "class Animal(ABC):\n",
    "    @abstractmethod \n",
    "    def walk(self):\n",
    "        print(\"animal walking\")\n",
    "        \n",
    "    @abstractmethod \n",
    "    def run(self):\n",
    "        print(\"animal running\")\n"
   ]
  },
  {
   "cell_type": "code",
   "execution_count": 55,
   "metadata": {},
   "outputs": [
    {
     "ename": "TypeError",
     "evalue": "Can't instantiate abstract class Animal with abstract methods run, walk",
     "output_type": "error",
     "traceback": [
      "\u001b[0;31m---------------------------------------------------------------------------\u001b[0m",
      "\u001b[0;31mTypeError\u001b[0m                                 Traceback (most recent call last)",
      "\u001b[0;32m<ipython-input-55-728b981361c4>\u001b[0m in \u001b[0;36m<module>\u001b[0;34m\u001b[0m\n\u001b[0;32m----> 1\u001b[0;31m \u001b[0mking\u001b[0m \u001b[0;34m=\u001b[0m \u001b[0mAnimal\u001b[0m\u001b[0;34m(\u001b[0m\u001b[0;34m)\u001b[0m\u001b[0;34m\u001b[0m\u001b[0;34m\u001b[0m\u001b[0m\n\u001b[0m",
      "\u001b[0;31mTypeError\u001b[0m: Can't instantiate abstract class Animal with abstract methods run, walk"
     ]
    }
   ],
   "source": [
    "king = Animal()"
   ]
  },
  {
   "cell_type": "markdown",
   "metadata": {},
   "source": [
    "- ***if we will use a method in a subclass you must define again***"
   ]
  },
  {
   "cell_type": "code",
   "execution_count": 56,
   "metadata": {},
   "outputs": [],
   "source": [
    "from abc import ABC,abstractmethod\n",
    "\n",
    "class Animal(ABC):\n",
    "#     @abstractmethod \n",
    "#     def walk(self):\n",
    "#         print(\"animal walking\")\n",
    "        \n",
    "    @abstractmethod \n",
    "    def run(self):\n",
    "        print(\"animal running\")\n",
    "\n",
    "class King(Animal):          #inheritance\n",
    "\n",
    "    def run(self):\n",
    "        print(\"king running\")"
   ]
  },
  {
   "cell_type": "code",
   "execution_count": 57,
   "metadata": {},
   "outputs": [
    {
     "name": "stdout",
     "output_type": "stream",
     "text": [
      "king running\n"
     ]
    }
   ],
   "source": [
    "king = King()\n",
    "king.run()"
   ]
  },
  {
   "cell_type": "code",
   "execution_count": 58,
   "metadata": {},
   "outputs": [],
   "source": [
    "from abc import ABC,abstractmethod\n",
    "\n",
    "class Animal(ABC):\n",
    "    @abstractmethod \n",
    "    def walk(self):\n",
    "        print(\"animal walking\")\n",
    "        \n",
    "    def run(self):\n",
    "        print(\"animal running\")\n",
    "\n",
    "class King(Animal):          #inheritance\n",
    "    def walk(self):\n",
    "        print(\"king walking\")\n"
   ]
  },
  {
   "cell_type": "code",
   "execution_count": 59,
   "metadata": {},
   "outputs": [
    {
     "name": "stdout",
     "output_type": "stream",
     "text": [
      "king walking\n",
      "animal running\n"
     ]
    }
   ],
   "source": [
    "king = King()\n",
    "king.walk()\n",
    "king.run()"
   ]
  }
 ],
 "metadata": {
  "kernelspec": {
   "display_name": "Python 3.8.5 64-bit ('base': conda)",
   "language": "python",
   "name": "python38564bitbasecondaa36d23ca368c4a06b017f2cbb1bc53a3"
  },
  "language_info": {
   "codemirror_mode": {
    "name": "ipython",
    "version": 3
   },
   "file_extension": ".py",
   "mimetype": "text/x-python",
   "name": "python",
   "nbconvert_exporter": "python",
   "pygments_lexer": "ipython3",
   "version": "3.8.5"
  },
  "widgets": {
   "application/vnd.jupyter.widget-state+json": {
    "state": {},
    "version_major": 2,
    "version_minor": 0
   }
  }
 },
 "nbformat": 4,
 "nbformat_minor": 4
}
